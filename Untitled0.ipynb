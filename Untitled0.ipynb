{
  "nbformat": 4,
  "nbformat_minor": 0,
  "metadata": {
    "colab": {
      "name": "Untitled0.ipynb",
      "provenance": [],
      "collapsed_sections": [],
      "authorship_tag": "ABX9TyNKscXr6DQolBQKV8k77HSF",
      "include_colab_link": true
    },
    "kernelspec": {
      "name": "python3",
      "display_name": "Python 3"
    },
    "language_info": {
      "name": "python"
    }
  },
  "cells": [
    {
      "cell_type": "markdown",
      "metadata": {
        "id": "view-in-github",
        "colab_type": "text"
      },
      "source": [
        "<a href=\"https://colab.research.google.com/github/kethanreddy1112/Assignment-Submission/blob/main/Untitled0.ipynb\" target=\"_parent\"><img src=\"https://colab.research.google.com/assets/colab-badge.svg\" alt=\"Open In Colab\"/></a>"
      ]
    },
    {
      "cell_type": "code",
      "execution_count": 1,
      "metadata": {
        "colab": {
          "base_uri": "https://localhost:8080/"
        },
        "id": "5jwHdBwjVa1J",
        "outputId": "3a81e39c-d66b-4eb2-99ee-89c695563f46"
      },
      "outputs": [
        {
          "output_type": "stream",
          "name": "stdout",
          "text": [
            "HELLO CODERS\n"
          ]
        }
      ],
      "source": [
        "print ('HELLO CODERS')"
      ]
    },
    {
      "cell_type": "code",
      "source": [
        "print('HELLO')\n",
        "print('CODERS')"
      ],
      "metadata": {
        "colab": {
          "base_uri": "https://localhost:8080/"
        },
        "id": "QeieEo6HWI0T",
        "outputId": "0dcdf309-aa02-4f84-d7b9-bb098ef84791"
      },
      "execution_count": 2,
      "outputs": [
        {
          "output_type": "stream",
          "name": "stdout",
          "text": [
            "HELLO\n",
            "CODERS\n"
          ]
        }
      ]
    },
    {
      "cell_type": "code",
      "source": [
        "print('HELLO',end='')\n",
        "print('coders')"
      ],
      "metadata": {
        "colab": {
          "base_uri": "https://localhost:8080/"
        },
        "id": "D4-W-ZtdWXdV",
        "outputId": "5fb81a50-f65c-459b-ab2c-1d2d8395f0ad"
      },
      "execution_count": 3,
      "outputs": [
        {
          "output_type": "stream",
          "name": "stdout",
          "text": [
            "HELLOcoders\n"
          ]
        }
      ]
    },
    {
      "cell_type": "code",
      "source": [
        "X = 20\n",
        "print (type(X))"
      ],
      "metadata": {
        "colab": {
          "base_uri": "https://localhost:8080/"
        },
        "id": "OwNIj62-Ww4D",
        "outputId": "cba241b8-6f38-48cb-9692-75907a55ec78"
      },
      "execution_count": 4,
      "outputs": [
        {
          "output_type": "stream",
          "name": "stdout",
          "text": [
            "<class 'int'>\n"
          ]
        }
      ]
    },
    {
      "cell_type": "code",
      "source": [
        "X = 20.55\n",
        "print (type(X))"
      ],
      "metadata": {
        "colab": {
          "base_uri": "https://localhost:8080/"
        },
        "id": "gmoyaOy-XXMa",
        "outputId": "303128fd-a98a-48af-c8ff-d95d11a366aa"
      },
      "execution_count": 5,
      "outputs": [
        {
          "output_type": "stream",
          "name": "stdout",
          "text": [
            "<class 'float'>\n"
          ]
        }
      ]
    },
    {
      "cell_type": "code",
      "source": [
        "X = 2+5J\n",
        "print (type(X))"
      ],
      "metadata": {
        "colab": {
          "base_uri": "https://localhost:8080/"
        },
        "id": "C19dYq_dXhXR",
        "outputId": "88228895-44ad-41a4-b382-eff201739faa"
      },
      "execution_count": 6,
      "outputs": [
        {
          "output_type": "stream",
          "name": "stdout",
          "text": [
            "<class 'complex'>\n"
          ]
        }
      ]
    },
    {
      "cell_type": "code",
      "source": [
        "X = True\n",
        "print (type(X))"
      ],
      "metadata": {
        "colab": {
          "base_uri": "https://localhost:8080/"
        },
        "id": "vN2MzGuFYoeW",
        "outputId": "b2af4f23-9daa-455a-8eb6-74ef92aa86b5"
      },
      "execution_count": 7,
      "outputs": [
        {
          "output_type": "stream",
          "name": "stdout",
          "text": [
            "<class 'bool'>\n"
          ]
        }
      ]
    },
    {
      "cell_type": "code",
      "source": [
        "X = 'kethan'\n",
        "print (type(X))"
      ],
      "metadata": {
        "colab": {
          "base_uri": "https://localhost:8080/"
        },
        "id": "WW95_bp7ZBho",
        "outputId": "fc1e50b3-8b10-4fa1-a9c7-f7b3d52e141d"
      },
      "execution_count": 8,
      "outputs": [
        {
          "output_type": "stream",
          "name": "stdout",
          "text": [
            "<class 'str'>\n"
          ]
        }
      ]
    },
    {
      "cell_type": "code",
      "source": [
        "a = b = c = 10\n",
        "print (a,b,c)"
      ],
      "metadata": {
        "colab": {
          "base_uri": "https://localhost:8080/"
        },
        "id": "kSgHy0qsZaL5",
        "outputId": "bea2e816-7f5e-4336-835f-1be954a30394"
      },
      "execution_count": 9,
      "outputs": [
        {
          "output_type": "stream",
          "name": "stdout",
          "text": [
            "10 10 10\n"
          ]
        }
      ]
    },
    {
      "cell_type": "code",
      "source": [
        "a = b = c = 10\n",
        "print (a)\n",
        "print (b)\n",
        "print (c)\n"
      ],
      "metadata": {
        "colab": {
          "base_uri": "https://localhost:8080/"
        },
        "id": "dwX5Vy4SZskj",
        "outputId": "0abbe8ed-9ad6-43e4-8388-75d06f5e3817"
      },
      "execution_count": 10,
      "outputs": [
        {
          "output_type": "stream",
          "name": "stdout",
          "text": [
            "10\n",
            "10\n",
            "10\n"
          ]
        }
      ]
    },
    {
      "cell_type": "code",
      "source": [
        "a = b = c = 10\n",
        "print (id(a))\n",
        "print (id(b))\n",
        "print (id(c))\n",
        "c = 25\n",
        "print (id(a))\n",
        "print (id(b))\n",
        "print (id(c))\n",
        "\n"
      ],
      "metadata": {
        "colab": {
          "base_uri": "https://localhost:8080/"
        },
        "id": "ciWi4_MJZ3PD",
        "outputId": "c237aa4b-0215-49eb-d814-8e4630476e55"
      },
      "execution_count": 11,
      "outputs": [
        {
          "output_type": "stream",
          "name": "stdout",
          "text": [
            "94313512147744\n",
            "94313512147744\n",
            "94313512147744\n",
            "94313512147744\n",
            "94313512147744\n",
            "94313512148224\n"
          ]
        }
      ]
    }
  ]
}